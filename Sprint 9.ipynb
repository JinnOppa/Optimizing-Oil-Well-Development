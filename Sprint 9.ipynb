{
 "cells": [
  {
   "cell_type": "markdown",
   "metadata": {},
   "source": [
    "# Optimizing Oil Well Development: Predicting Reservoir Volumes and Maximizing Profitability"
   ]
  },
  {
   "cell_type": "code",
   "execution_count": 11,
   "metadata": {},
   "outputs": [],
   "source": [
    "import pandas as pd\n",
    "from sklearn.model_selection import train_test_split\n",
    "from sklearn.linear_model import LinearRegression\n",
    "from sklearn.metrics import mean_squared_error\n",
    "from sklearn.utils import resample"
   ]
  },
  {
   "cell_type": "code",
   "execution_count": 2,
   "metadata": {},
   "outputs": [],
   "source": [
    "geo_data_0 = pd.read_csv('geo_data_0.csv')\n",
    "geo_data_1 = pd.read_csv('geo_data_1.csv')\n",
    "geo_data_2 = pd.read_csv('geo_data_2.csv')"
   ]
  },
  {
   "cell_type": "code",
   "execution_count": 47,
   "metadata": {},
   "outputs": [
    {
     "name": "stdout",
     "output_type": "stream",
     "text": [
      "<class 'pandas.core.frame.DataFrame'>\n",
      "RangeIndex: 100000 entries, 0 to 99999\n",
      "Data columns (total 5 columns):\n",
      " #   Column   Non-Null Count   Dtype  \n",
      "---  ------   --------------   -----  \n",
      " 0   id       100000 non-null  object \n",
      " 1   f0       100000 non-null  float64\n",
      " 2   f1       100000 non-null  float64\n",
      " 3   f2       100000 non-null  float64\n",
      " 4   product  100000 non-null  float64\n",
      "dtypes: float64(4), object(1)\n",
      "memory usage: 3.8+ MB\n"
     ]
    }
   ],
   "source": [
    "geo_data_0.info()"
   ]
  },
  {
   "cell_type": "code",
   "execution_count": 49,
   "metadata": {},
   "outputs": [
    {
     "name": "stdout",
     "output_type": "stream",
     "text": [
      "<class 'pandas.core.frame.DataFrame'>\n",
      "RangeIndex: 100000 entries, 0 to 99999\n",
      "Data columns (total 5 columns):\n",
      " #   Column   Non-Null Count   Dtype  \n",
      "---  ------   --------------   -----  \n",
      " 0   id       100000 non-null  object \n",
      " 1   f0       100000 non-null  float64\n",
      " 2   f1       100000 non-null  float64\n",
      " 3   f2       100000 non-null  float64\n",
      " 4   product  100000 non-null  float64\n",
      "dtypes: float64(4), object(1)\n",
      "memory usage: 3.8+ MB\n"
     ]
    }
   ],
   "source": [
    "geo_data_1.info()"
   ]
  },
  {
   "cell_type": "code",
   "execution_count": 8,
   "metadata": {},
   "outputs": [
    {
     "data": {
      "text/html": [
       "<div>\n",
       "<style scoped>\n",
       "    .dataframe tbody tr th:only-of-type {\n",
       "        vertical-align: middle;\n",
       "    }\n",
       "\n",
       "    .dataframe tbody tr th {\n",
       "        vertical-align: top;\n",
       "    }\n",
       "\n",
       "    .dataframe thead th {\n",
       "        text-align: right;\n",
       "    }\n",
       "</style>\n",
       "<table border=\"1\" class=\"dataframe\">\n",
       "  <thead>\n",
       "    <tr style=\"text-align: right;\">\n",
       "      <th></th>\n",
       "      <th>id</th>\n",
       "      <th>f0</th>\n",
       "      <th>f1</th>\n",
       "      <th>f2</th>\n",
       "      <th>product</th>\n",
       "    </tr>\n",
       "  </thead>\n",
       "  <tbody>\n",
       "    <tr>\n",
       "      <th>0</th>\n",
       "      <td>txEyH</td>\n",
       "      <td>0.705745</td>\n",
       "      <td>-0.497823</td>\n",
       "      <td>1.221170</td>\n",
       "      <td>105.280062</td>\n",
       "    </tr>\n",
       "    <tr>\n",
       "      <th>1</th>\n",
       "      <td>2acmU</td>\n",
       "      <td>1.334711</td>\n",
       "      <td>-0.340164</td>\n",
       "      <td>4.365080</td>\n",
       "      <td>73.037750</td>\n",
       "    </tr>\n",
       "    <tr>\n",
       "      <th>2</th>\n",
       "      <td>409Wp</td>\n",
       "      <td>1.022732</td>\n",
       "      <td>0.151990</td>\n",
       "      <td>1.419926</td>\n",
       "      <td>85.265647</td>\n",
       "    </tr>\n",
       "    <tr>\n",
       "      <th>3</th>\n",
       "      <td>iJLyR</td>\n",
       "      <td>-0.032172</td>\n",
       "      <td>0.139033</td>\n",
       "      <td>2.978566</td>\n",
       "      <td>168.620776</td>\n",
       "    </tr>\n",
       "    <tr>\n",
       "      <th>4</th>\n",
       "      <td>Xdl7t</td>\n",
       "      <td>1.988431</td>\n",
       "      <td>0.155413</td>\n",
       "      <td>4.751769</td>\n",
       "      <td>154.036647</td>\n",
       "    </tr>\n",
       "    <tr>\n",
       "      <th>5</th>\n",
       "      <td>wX4Hy</td>\n",
       "      <td>0.969570</td>\n",
       "      <td>0.489775</td>\n",
       "      <td>-0.735383</td>\n",
       "      <td>64.741541</td>\n",
       "    </tr>\n",
       "    <tr>\n",
       "      <th>6</th>\n",
       "      <td>tL6pL</td>\n",
       "      <td>0.645075</td>\n",
       "      <td>0.530656</td>\n",
       "      <td>1.780266</td>\n",
       "      <td>49.055285</td>\n",
       "    </tr>\n",
       "    <tr>\n",
       "      <th>7</th>\n",
       "      <td>BYPU6</td>\n",
       "      <td>-0.400648</td>\n",
       "      <td>0.808337</td>\n",
       "      <td>-5.624670</td>\n",
       "      <td>72.943292</td>\n",
       "    </tr>\n",
       "    <tr>\n",
       "      <th>8</th>\n",
       "      <td>j9Oui</td>\n",
       "      <td>0.643105</td>\n",
       "      <td>-0.551583</td>\n",
       "      <td>2.372141</td>\n",
       "      <td>113.356160</td>\n",
       "    </tr>\n",
       "    <tr>\n",
       "      <th>9</th>\n",
       "      <td>OLuZU</td>\n",
       "      <td>2.173381</td>\n",
       "      <td>0.563698</td>\n",
       "      <td>9.441852</td>\n",
       "      <td>127.910945</td>\n",
       "    </tr>\n",
       "  </tbody>\n",
       "</table>\n",
       "</div>"
      ],
      "text/plain": [
       "      id        f0        f1        f2     product\n",
       "0  txEyH  0.705745 -0.497823  1.221170  105.280062\n",
       "1  2acmU  1.334711 -0.340164  4.365080   73.037750\n",
       "2  409Wp  1.022732  0.151990  1.419926   85.265647\n",
       "3  iJLyR -0.032172  0.139033  2.978566  168.620776\n",
       "4  Xdl7t  1.988431  0.155413  4.751769  154.036647\n",
       "5  wX4Hy  0.969570  0.489775 -0.735383   64.741541\n",
       "6  tL6pL  0.645075  0.530656  1.780266   49.055285\n",
       "7  BYPU6 -0.400648  0.808337 -5.624670   72.943292\n",
       "8  j9Oui  0.643105 -0.551583  2.372141  113.356160\n",
       "9  OLuZU  2.173381  0.563698  9.441852  127.910945"
      ]
     },
     "execution_count": 8,
     "metadata": {},
     "output_type": "execute_result"
    }
   ],
   "source": [
    "geo_data_0.head(10)"
   ]
  },
  {
   "cell_type": "code",
   "execution_count": 9,
   "metadata": {},
   "outputs": [
    {
     "data": {
      "text/html": [
       "<div>\n",
       "<style scoped>\n",
       "    .dataframe tbody tr th:only-of-type {\n",
       "        vertical-align: middle;\n",
       "    }\n",
       "\n",
       "    .dataframe tbody tr th {\n",
       "        vertical-align: top;\n",
       "    }\n",
       "\n",
       "    .dataframe thead th {\n",
       "        text-align: right;\n",
       "    }\n",
       "</style>\n",
       "<table border=\"1\" class=\"dataframe\">\n",
       "  <thead>\n",
       "    <tr style=\"text-align: right;\">\n",
       "      <th></th>\n",
       "      <th>id</th>\n",
       "      <th>f0</th>\n",
       "      <th>f1</th>\n",
       "      <th>f2</th>\n",
       "      <th>product</th>\n",
       "    </tr>\n",
       "  </thead>\n",
       "  <tbody>\n",
       "    <tr>\n",
       "      <th>0</th>\n",
       "      <td>kBEdx</td>\n",
       "      <td>-15.001348</td>\n",
       "      <td>-8.276000</td>\n",
       "      <td>-0.005876</td>\n",
       "      <td>3.179103</td>\n",
       "    </tr>\n",
       "    <tr>\n",
       "      <th>1</th>\n",
       "      <td>62mP7</td>\n",
       "      <td>14.272088</td>\n",
       "      <td>-3.475083</td>\n",
       "      <td>0.999183</td>\n",
       "      <td>26.953261</td>\n",
       "    </tr>\n",
       "    <tr>\n",
       "      <th>2</th>\n",
       "      <td>vyE1P</td>\n",
       "      <td>6.263187</td>\n",
       "      <td>-5.948386</td>\n",
       "      <td>5.001160</td>\n",
       "      <td>134.766305</td>\n",
       "    </tr>\n",
       "    <tr>\n",
       "      <th>3</th>\n",
       "      <td>KcrkZ</td>\n",
       "      <td>-13.081196</td>\n",
       "      <td>-11.506057</td>\n",
       "      <td>4.999415</td>\n",
       "      <td>137.945408</td>\n",
       "    </tr>\n",
       "    <tr>\n",
       "      <th>4</th>\n",
       "      <td>AHL4O</td>\n",
       "      <td>12.702195</td>\n",
       "      <td>-8.147433</td>\n",
       "      <td>5.004363</td>\n",
       "      <td>134.766305</td>\n",
       "    </tr>\n",
       "    <tr>\n",
       "      <th>5</th>\n",
       "      <td>HHckp</td>\n",
       "      <td>-3.327590</td>\n",
       "      <td>-2.205276</td>\n",
       "      <td>3.003647</td>\n",
       "      <td>84.038886</td>\n",
       "    </tr>\n",
       "    <tr>\n",
       "      <th>6</th>\n",
       "      <td>h5Ujo</td>\n",
       "      <td>-11.142655</td>\n",
       "      <td>-10.133399</td>\n",
       "      <td>4.002382</td>\n",
       "      <td>110.992147</td>\n",
       "    </tr>\n",
       "    <tr>\n",
       "      <th>7</th>\n",
       "      <td>muH9x</td>\n",
       "      <td>4.234715</td>\n",
       "      <td>-0.001354</td>\n",
       "      <td>2.004588</td>\n",
       "      <td>53.906522</td>\n",
       "    </tr>\n",
       "    <tr>\n",
       "      <th>8</th>\n",
       "      <td>YiRkx</td>\n",
       "      <td>13.355129</td>\n",
       "      <td>-0.332068</td>\n",
       "      <td>4.998647</td>\n",
       "      <td>134.766305</td>\n",
       "    </tr>\n",
       "    <tr>\n",
       "      <th>9</th>\n",
       "      <td>jG6Gi</td>\n",
       "      <td>1.069227</td>\n",
       "      <td>-11.025667</td>\n",
       "      <td>4.997844</td>\n",
       "      <td>137.945408</td>\n",
       "    </tr>\n",
       "  </tbody>\n",
       "</table>\n",
       "</div>"
      ],
      "text/plain": [
       "      id         f0         f1        f2     product\n",
       "0  kBEdx -15.001348  -8.276000 -0.005876    3.179103\n",
       "1  62mP7  14.272088  -3.475083  0.999183   26.953261\n",
       "2  vyE1P   6.263187  -5.948386  5.001160  134.766305\n",
       "3  KcrkZ -13.081196 -11.506057  4.999415  137.945408\n",
       "4  AHL4O  12.702195  -8.147433  5.004363  134.766305\n",
       "5  HHckp  -3.327590  -2.205276  3.003647   84.038886\n",
       "6  h5Ujo -11.142655 -10.133399  4.002382  110.992147\n",
       "7  muH9x   4.234715  -0.001354  2.004588   53.906522\n",
       "8  YiRkx  13.355129  -0.332068  4.998647  134.766305\n",
       "9  jG6Gi   1.069227 -11.025667  4.997844  137.945408"
      ]
     },
     "execution_count": 9,
     "metadata": {},
     "output_type": "execute_result"
    }
   ],
   "source": [
    "geo_data_1.head(10)"
   ]
  },
  {
   "cell_type": "code",
   "execution_count": 10,
   "metadata": {},
   "outputs": [
    {
     "data": {
      "text/html": [
       "<div>\n",
       "<style scoped>\n",
       "    .dataframe tbody tr th:only-of-type {\n",
       "        vertical-align: middle;\n",
       "    }\n",
       "\n",
       "    .dataframe tbody tr th {\n",
       "        vertical-align: top;\n",
       "    }\n",
       "\n",
       "    .dataframe thead th {\n",
       "        text-align: right;\n",
       "    }\n",
       "</style>\n",
       "<table border=\"1\" class=\"dataframe\">\n",
       "  <thead>\n",
       "    <tr style=\"text-align: right;\">\n",
       "      <th></th>\n",
       "      <th>id</th>\n",
       "      <th>f0</th>\n",
       "      <th>f1</th>\n",
       "      <th>f2</th>\n",
       "      <th>product</th>\n",
       "    </tr>\n",
       "  </thead>\n",
       "  <tbody>\n",
       "    <tr>\n",
       "      <th>0</th>\n",
       "      <td>fwXo0</td>\n",
       "      <td>-1.146987</td>\n",
       "      <td>0.963328</td>\n",
       "      <td>-0.828965</td>\n",
       "      <td>27.758673</td>\n",
       "    </tr>\n",
       "    <tr>\n",
       "      <th>1</th>\n",
       "      <td>WJtFt</td>\n",
       "      <td>0.262778</td>\n",
       "      <td>0.269839</td>\n",
       "      <td>-2.530187</td>\n",
       "      <td>56.069697</td>\n",
       "    </tr>\n",
       "    <tr>\n",
       "      <th>2</th>\n",
       "      <td>ovLUW</td>\n",
       "      <td>0.194587</td>\n",
       "      <td>0.289035</td>\n",
       "      <td>-5.586433</td>\n",
       "      <td>62.871910</td>\n",
       "    </tr>\n",
       "    <tr>\n",
       "      <th>3</th>\n",
       "      <td>q6cA6</td>\n",
       "      <td>2.236060</td>\n",
       "      <td>-0.553760</td>\n",
       "      <td>0.930038</td>\n",
       "      <td>114.572842</td>\n",
       "    </tr>\n",
       "    <tr>\n",
       "      <th>4</th>\n",
       "      <td>WPMUX</td>\n",
       "      <td>-0.515993</td>\n",
       "      <td>1.716266</td>\n",
       "      <td>5.899011</td>\n",
       "      <td>149.600746</td>\n",
       "    </tr>\n",
       "    <tr>\n",
       "      <th>5</th>\n",
       "      <td>LzZXx</td>\n",
       "      <td>-0.758092</td>\n",
       "      <td>0.710691</td>\n",
       "      <td>2.585887</td>\n",
       "      <td>90.222465</td>\n",
       "    </tr>\n",
       "    <tr>\n",
       "      <th>6</th>\n",
       "      <td>WBHRv</td>\n",
       "      <td>-0.574891</td>\n",
       "      <td>0.317727</td>\n",
       "      <td>1.773745</td>\n",
       "      <td>45.641478</td>\n",
       "    </tr>\n",
       "    <tr>\n",
       "      <th>7</th>\n",
       "      <td>XO8fn</td>\n",
       "      <td>-1.906649</td>\n",
       "      <td>-2.458350</td>\n",
       "      <td>-0.177097</td>\n",
       "      <td>72.480640</td>\n",
       "    </tr>\n",
       "    <tr>\n",
       "      <th>8</th>\n",
       "      <td>ybmQ5</td>\n",
       "      <td>1.776292</td>\n",
       "      <td>-0.279356</td>\n",
       "      <td>3.004156</td>\n",
       "      <td>106.616832</td>\n",
       "    </tr>\n",
       "    <tr>\n",
       "      <th>9</th>\n",
       "      <td>OilcN</td>\n",
       "      <td>-1.214452</td>\n",
       "      <td>-0.439314</td>\n",
       "      <td>5.922514</td>\n",
       "      <td>52.954532</td>\n",
       "    </tr>\n",
       "  </tbody>\n",
       "</table>\n",
       "</div>"
      ],
      "text/plain": [
       "      id        f0        f1        f2     product\n",
       "0  fwXo0 -1.146987  0.963328 -0.828965   27.758673\n",
       "1  WJtFt  0.262778  0.269839 -2.530187   56.069697\n",
       "2  ovLUW  0.194587  0.289035 -5.586433   62.871910\n",
       "3  q6cA6  2.236060 -0.553760  0.930038  114.572842\n",
       "4  WPMUX -0.515993  1.716266  5.899011  149.600746\n",
       "5  LzZXx -0.758092  0.710691  2.585887   90.222465\n",
       "6  WBHRv -0.574891  0.317727  1.773745   45.641478\n",
       "7  XO8fn -1.906649 -2.458350 -0.177097   72.480640\n",
       "8  ybmQ5  1.776292 -0.279356  3.004156  106.616832\n",
       "9  OilcN -1.214452 -0.439314  5.922514   52.954532"
      ]
     },
     "execution_count": 10,
     "metadata": {},
     "output_type": "execute_result"
    }
   ],
   "source": [
    "geo_data_2.head(10)"
   ]
  },
  {
   "cell_type": "markdown",
   "metadata": {},
   "source": [
    "## Model Training and Testing"
   ]
  },
  {
   "cell_type": "code",
   "execution_count": 12,
   "metadata": {},
   "outputs": [],
   "source": [
    "def train_test_model(data, region):\n",
    "    x = data[['f0', 'f1', 'f2']]\n",
    "    y = data['product']\n",
    "    \n",
    "    x_train, x_valid, y_train, y_valid = train_test_split(x, y, test_size=0.25, random_state=42)\n",
    "\n",
    "    model = LinearRegression()\n",
    "    model.fit(x_train, y_train)\n",
    "    \n",
    "    predictions = model.predict(x_valid)\n",
    "    \n",
    "    mse = mean_squared_error(y_valid, predictions)\n",
    "    \n",
    "    print(f\"Region {region} - Mean Squared Error: {mse}\")\n",
    "    \n",
    "    return predictions, y_valid\n"
   ]
  },
  {
   "cell_type": "code",
   "execution_count": 13,
   "metadata": {},
   "outputs": [
    {
     "name": "stdout",
     "output_type": "stream",
     "text": [
      "Region 0 - Mean Squared Error: 1425.5608700093812\n",
      "Region 1 - Mean Squared Error: 0.7925986566392037\n",
      "Region 2 - Mean Squared Error: 1611.6910636385903\n"
     ]
    }
   ],
   "source": [
    "predictions_0, true_values_0 = train_test_model(geo_data_0, 0)\n",
    "predictions_1, true_values_1 = train_test_model(geo_data_1, 1)\n",
    "predictions_2, true_values_2 = train_test_model(geo_data_2, 2)"
   ]
  },
  {
   "cell_type": "markdown",
   "metadata": {},
   "source": [
    "## Profit Calculation Preparation"
   ]
  },
  {
   "cell_type": "code",
   "execution_count": 34,
   "metadata": {},
   "outputs": [],
   "source": [
    "investment_per_well = 100_000_000\n",
    "target_barrels_per_well = 111.1\n",
    "number_of_wells = 200"
   ]
  },
  {
   "cell_type": "code",
   "execution_count": 37,
   "metadata": {},
   "outputs": [
    {
     "name": "stdout",
     "output_type": "stream",
     "text": [
      "Revenue per barrel: 4500.450045004501\n"
     ]
    }
   ],
   "source": [
    "revenue_per_barrel = investment_per_well / (number_of_wells * target_barrels_per_well)\n",
    "\n",
    "print(\"Revenue per barrel:\", revenue_per_barrel)\n"
   ]
  },
  {
   "cell_type": "markdown",
   "metadata": {},
   "source": [
    "Volume breakeven calculation "
   ]
  },
  {
   "cell_type": "code",
   "execution_count": 36,
   "metadata": {},
   "outputs": [],
   "source": [
    "required_volume = investment_per_well / revenue_per_barrel"
   ]
  },
  {
   "cell_type": "markdown",
   "metadata": {},
   "source": [
    "calculate average volume"
   ]
  },
  {
   "cell_type": "code",
   "execution_count": 38,
   "metadata": {},
   "outputs": [
    {
     "name": "stdout",
     "output_type": "stream",
     "text": [
      "\n",
      "Required volume for breakeven: 22220.0\n",
      "\n",
      "Average volume for Region 0: 92.39879990657768\n",
      "Average volume for Region 1: 68.71287803913762\n",
      "Average volume for Region 2: 94.77102387765939\n"
     ]
    }
   ],
   "source": [
    "average_volume_0 = predictions_0.mean()\n",
    "average_volume_1 = predictions_1.mean()\n",
    "average_volume_2 = predictions_2.mean()\n",
    "\n",
    "print(f\"\\nRequired volume for breakeven: {required_volume}\\n\")\n",
    "print(f\"Average volume for Region 0: {average_volume_0}\")\n",
    "print(f\"Average volume for Region 1: {average_volume_1}\")\n",
    "print(f\"Average volume for Region 2: {average_volume_2}\")"
   ]
  },
  {
   "cell_type": "markdown",
   "metadata": {},
   "source": [
    "## Profit Calculation"
   ]
  },
  {
   "cell_type": "code",
   "execution_count": 45,
   "metadata": {},
   "outputs": [
    {
     "name": "stdout",
     "output_type": "stream",
     "text": [
      "\n",
      "Total Revenue from Selected Wells: 397655546.64\n",
      "Total Profit from Selected Wells: -19602344453.36\n"
     ]
    }
   ],
   "source": [
    "def calculate_profit_for_selected_wells(predictions_0, predictions_1, predictions_2):\n",
    "    # Convert predictions to Pandas Series\n",
    "    predictions_0_series = pd.Series(predictions_0)\n",
    "    predictions_1_series = pd.Series(predictions_1)\n",
    "    predictions_2_series = pd.Series(predictions_2)\n",
    "\n",
    "    # Select top 200 wells for each region based on predictions\n",
    "    selected_wells_0 = predictions_0_series.sort_values(ascending=False).head(200)\n",
    "    selected_wells_1 = predictions_1_series.sort_values(ascending=False).head(200)\n",
    "    selected_wells_2 = predictions_2_series.sort_values(ascending=False).head(200)\n",
    "\n",
    "    # Combine selected wells from all regions\n",
    "    selected_wells_combined = pd.concat([selected_wells_0, selected_wells_1, selected_wells_2])\n",
    "\n",
    "    # Calculate total volume for the selected wells\n",
    "    total_volume = selected_wells_combined.sum()\n",
    "\n",
    "    # Calculate revenue and profit\n",
    "    revenue = total_volume * revenue_per_barrel\n",
    "    profit = revenue - investment_per_well * number_of_wells\n",
    "\n",
    "    # Print summary\n",
    "    print(f\"\\nTotal Revenue from Selected Wells: {revenue:.2f}\")\n",
    "    print(f\"Total Profit from Selected Wells: {profit:.2f}\")\n",
    "\n",
    "    return profit\n",
    "\n",
    "# Call the function with predictions from each region\n",
    "profit_from_selected_wells = calculate_profit_for_selected_wells(predictions_0, predictions_1, predictions_2)\n"
   ]
  },
  {
   "cell_type": "code",
   "execution_count": 51,
   "metadata": {},
   "outputs": [
    {
     "name": "stdout",
     "output_type": "stream",
     "text": [
      "\n",
      "Total Number of Wells Used in Region 0: 200\n",
      "Total Number of Wells Used in Region 1: 200\n",
      "Total Number of Wells Used in Region 2: 200\n",
      "Total Number of Wells Used in All Regions: 600\n",
      "\n",
      "Total Revenue from Selected Wells: 397655546.64\n",
      "Total Profit from Selected Wells: -19602344453.36\n"
     ]
    }
   ],
   "source": [
    "def calculate_profit_for_selected_wells(predictions_0, predictions_1, predictions_2):\n",
    "    # Convert predictions to Pandas Series\n",
    "    predictions_0_series = pd.Series(predictions_0)\n",
    "    predictions_1_series = pd.Series(predictions_1)\n",
    "    predictions_2_series = pd.Series(predictions_2)\n",
    "\n",
    "    # Select top 200 wells for each region based on predictions\n",
    "    selected_wells_0 = predictions_0_series.sort_values(ascending=False).head(200)\n",
    "    selected_wells_1 = predictions_1_series.sort_values(ascending=False).head(200)\n",
    "    selected_wells_2 = predictions_2_series.sort_values(ascending=False).head(200)\n",
    "\n",
    "    # Combine selected wells from all regions\n",
    "    selected_wells_combined = pd.concat([selected_wells_0, selected_wells_1, selected_wells_2])\n",
    "\n",
    "    # Calculate total volume for the selected wells\n",
    "    total_volume = selected_wells_combined.sum()\n",
    "\n",
    "    # Calculate revenue and profit\n",
    "    revenue = total_volume * revenue_per_barrel\n",
    "    profit = revenue - investment_per_well * number_of_wells\n",
    "    \n",
    "    # Print summary\n",
    "    print(f\"\\nTotal Number of Wells Used in Region 0: {selected_wells_0.shape[0]}\")\n",
    "    print(f\"Total Number of Wells Used in Region 1: {selected_wells_1.shape[0]}\")\n",
    "    print(f\"Total Number of Wells Used in Region 2: {selected_wells_2.shape[0]}\")\n",
    "    print(f\"Total Number of Wells Used in All Regions: {selected_wells_combined.shape[0]}\")\n",
    "    print(f\"\\nTotal Revenue from Selected Wells: {revenue:.2f}\")\n",
    "    print(f\"Total Profit from Selected Wells: {profit:.2f}\")\n",
    "\n",
    "    return profit\n",
    "\n",
    "# Call the function with predictions from each region\n",
    "profit_from_selected_wells = calculate_profit_for_selected_wells(predictions_0, predictions_1, predictions_2)\n"
   ]
  },
  {
   "cell_type": "code",
   "execution_count": 54,
   "metadata": {},
   "outputs": [
    {
     "name": "stdout",
     "output_type": "stream",
     "text": [
      "\n",
      "Region 0:\n",
      "Total Volume: 30881.46\n",
      "Total Revenue from Selected Wells: 138980482.84\n",
      "Total Profit from Selected Wells: -19861019517.16\n",
      "\n",
      "Region 1:\n",
      "Total Volume: 27748.75\n",
      "Total Revenue from Selected Wells: 124881869.34\n",
      "Total Profit from Selected Wells: -19875118130.66\n",
      "\n",
      "Region 2:\n",
      "Total Volume: 29728.85\n",
      "Total Revenue from Selected Wells: 133793194.46\n",
      "Total Profit from Selected Wells: -19866206805.54\n"
     ]
    }
   ],
   "source": [
    "import pandas as pd\n",
    "\n",
    "def calculate_profit_for_selected_wells(predictions_0, predictions_1, predictions_2):\n",
    "    # Convert predictions to Pandas Series\n",
    "    predictions_0_series = pd.Series(predictions_0)\n",
    "    predictions_1_series = pd.Series(predictions_1)\n",
    "    predictions_2_series = pd.Series(predictions_2)\n",
    "\n",
    "    # Select top 200 wells for each region based on predictions\n",
    "    selected_wells_0 = predictions_0_series.sort_values(ascending=False).head(200)\n",
    "    selected_wells_1 = predictions_1_series.sort_values(ascending=False).head(200)\n",
    "    selected_wells_2 = predictions_2_series.sort_values(ascending=False).head(200)\n",
    "\n",
    "    # Calculate total volume for the selected wells in each region\n",
    "    total_volume_0 = selected_wells_0.sum()\n",
    "    total_volume_1 = selected_wells_1.sum()\n",
    "    total_volume_2 = selected_wells_2.sum()\n",
    "\n",
    "    # Calculate revenue and profit for each region\n",
    "    revenue_0 = total_volume_0 * revenue_per_barrel\n",
    "    profit_0 = revenue_0 - (investment_per_well * number_of_wells)\n",
    "\n",
    "    revenue_1 = total_volume_1 * revenue_per_barrel\n",
    "    profit_1 = revenue_1 - (investment_per_well * number_of_wells)\n",
    "\n",
    "    revenue_2 = total_volume_2 * revenue_per_barrel\n",
    "    profit_2 = revenue_2 - (investment_per_well * number_of_wells)\n",
    "    \n",
    "    # Print summaries for each region\n",
    "    print(\"\\nRegion 0:\")\n",
    "    print(f\"Total Volume: {total_volume_0:.2f}\")\n",
    "    print(f\"Total Revenue from Selected Wells: {revenue_0:.2f}\")\n",
    "    print(f\"Total Profit from Selected Wells: {profit_0:.2f}\")\n",
    "\n",
    "    print(\"\\nRegion 1:\")\n",
    "    print(f\"Total Volume: {total_volume_1:.2f}\")\n",
    "    print(f\"Total Revenue from Selected Wells: {revenue_1:.2f}\")\n",
    "    print(f\"Total Profit from Selected Wells: {profit_1:.2f}\")\n",
    "\n",
    "    print(\"\\nRegion 2:\")\n",
    "    print(f\"Total Volume: {total_volume_2:.2f}\")\n",
    "    print(f\"Total Revenue from Selected Wells: {revenue_2:.2f}\")\n",
    "    print(f\"Total Profit from Selected Wells: {profit_2:.2f}\")\n",
    "\n",
    "    return profit_0, profit_1, profit_2\n",
    "\n",
    "# Call the function with predictions from each region\n",
    "profit_from_selected_wells_0, profit_from_selected_wells_1, profit_from_selected_wells_2 = calculate_profit_for_selected_wells(predictions_0, predictions_1, predictions_2)\n"
   ]
  },
  {
   "cell_type": "code",
   "execution_count": 39,
   "metadata": {},
   "outputs": [
    {
     "name": "stdout",
     "output_type": "stream",
     "text": [
      "\n",
      "Region 0 - Total Revenue: 138980482.84\n",
      "Region 0 - Total Profit: -19861019517.16\n",
      "\n",
      "Region 1 - Total Revenue: 124881869.34\n",
      "Region 1 - Total Profit: -19875118130.66\n",
      "\n",
      "Region 2 - Total Revenue: 133793194.46\n",
      "Region 2 - Total Profit: -19866206805.54\n"
     ]
    }
   ],
   "source": [
    "# Step 4: Profit Calculation Function\n",
    "def calculate_profit(predictions, region):\n",
    "    # Convert predictions to a Pandas DataFrame\n",
    "    predictions_df = pd.DataFrame(predictions, columns=['product'])\n",
    "    \n",
    "    # Sort values and select top wells\n",
    "    top_wells = predictions_df.sort_values(by='product', ascending=False).head(number_of_wells)\n",
    "    selected_wells = top_wells.index\n",
    "\n",
    "    total_volume = top_wells.sum()['product']\n",
    "    revenue = total_volume * revenue_per_barrel\n",
    "    profit = revenue - investment_per_well * len(selected_wells)\n",
    "\n",
    "    print(f\"\\nRegion {region} - Total Revenue: {revenue:.2f}\")\n",
    "    print(f\"Region {region} - Total Profit: {profit:.2f}\")\n",
    "\n",
    "calculate_profit(predictions_0, 0)\n",
    "calculate_profit(predictions_1, 1)\n",
    "calculate_profit(predictions_2, 2)\n"
   ]
  }
 ],
 "metadata": {
  "kernelspec": {
   "display_name": "Python 3",
   "language": "python",
   "name": "python3"
  },
  "language_info": {
   "codemirror_mode": {
    "name": "ipython",
    "version": 3
   },
   "file_extension": ".py",
   "mimetype": "text/x-python",
   "name": "python",
   "nbconvert_exporter": "python",
   "pygments_lexer": "ipython3",
   "version": "3.10.11"
  }
 },
 "nbformat": 4,
 "nbformat_minor": 2
}
